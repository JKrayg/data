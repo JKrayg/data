{
 "cells": [
  {
   "cell_type": "code",
   "execution_count": 2,
   "metadata": {},
   "outputs": [
    {
     "name": "stdout",
     "output_type": "stream",
     "text": [
      "Looking in indexes: https://pypi.org/simple, https://pypi.ngc.nvidia.com\n",
      "Requirement already satisfied: pandas in c:\\users\\jk101\\miniconda3\\lib\\site-packages (2.1.1)\n",
      "Requirement already satisfied: python-dateutil>=2.8.2 in c:\\users\\jk101\\miniconda3\\lib\\site-packages (from pandas) (2.8.2)\n",
      "Requirement already satisfied: tzdata>=2022.1 in c:\\users\\jk101\\miniconda3\\lib\\site-packages (from pandas) (2023.3)\n",
      "Requirement already satisfied: pytz>=2020.1 in c:\\users\\jk101\\miniconda3\\lib\\site-packages (from pandas) (2022.7)\n",
      "Requirement already satisfied: numpy>=1.22.4 in c:\\users\\jk101\\miniconda3\\lib\\site-packages (from pandas) (1.25.0)\n",
      "Requirement already satisfied: six>=1.5 in c:\\users\\jk101\\miniconda3\\lib\\site-packages (from python-dateutil>=2.8.2->pandas) (1.16.0)\n"
     ]
    }
   ],
   "source": [
    "!pip install pandas"
   ]
  },
  {
   "cell_type": "code",
   "execution_count": 4,
   "metadata": {},
   "outputs": [
    {
     "ename": "ModuleNotFoundError",
     "evalue": "No module named 'pandas'",
     "output_type": "error",
     "traceback": [
      "\u001b[1;31m---------------------------------------------------------------------------\u001b[0m",
      "\u001b[1;31mModuleNotFoundError\u001b[0m                       Traceback (most recent call last)",
      "\u001b[1;32mc:\\Users\\jk101\\Desktop\\python\\dataset\\data.ipynb Cell 2\u001b[0m line \u001b[0;36m1\n\u001b[1;32m----> <a href='vscode-notebook-cell:/c%3A/Users/jk101/Desktop/python/dataset/data.ipynb#W0sZmlsZQ%3D%3D?line=0'>1</a>\u001b[0m \u001b[39mimport\u001b[39;00m \u001b[39mpandas\u001b[39;00m \u001b[39mas\u001b[39;00m \u001b[39mpd\u001b[39;00m\n\u001b[0;32m      <a href='vscode-notebook-cell:/c%3A/Users/jk101/Desktop/python/dataset/data.ipynb#W0sZmlsZQ%3D%3D?line=2'>3</a>\u001b[0m df_iq \u001b[39m=\u001b[39m pd\u001b[39m.\u001b[39mDataFrame(pd\u001b[39m.\u001b[39mread_csv(\u001b[39m'\u001b[39m\u001b[39miq.csv\u001b[39m\u001b[39m'\u001b[39m))\n\u001b[0;32m      <a href='vscode-notebook-cell:/c%3A/Users/jk101/Desktop/python/dataset/data.ipynb#W0sZmlsZQ%3D%3D?line=3'>4</a>\u001b[0m df_qol \u001b[39m=\u001b[39m pd\u001b[39m.\u001b[39mDataFrame(pd\u001b[39m.\u001b[39mread_csv(\u001b[39m'\u001b[39m\u001b[39mquality_of_life.csv\u001b[39m\u001b[39m'\u001b[39m))\n",
      "\u001b[1;31mModuleNotFoundError\u001b[0m: No module named 'pandas'"
     ]
    }
   ],
   "source": [
    "import pandas as pd\n",
    "\n",
    "df_iq = pd.DataFrame(pd.read_csv('iq.csv'))\n",
    "df_qol = pd.DataFrame(pd.read_csv('quality_of_life.csv'))\n",
    "\n",
    "print(df_qol.columns)\n",
    "\n",
    "count = 0\n",
    "df_iq[df_qol.columns[1]] = \"data\"\n",
    "df_iq[df_qol.columns[2]] = \"data\"\n",
    "df_iq[df_qol.columns[3]] = \"data\"\n",
    "df_iq[df_qol.columns[4]] = \"data\"\n",
    "df_iq[df_qol.columns[5]] = \"data\"\n",
    "df_iq[df_qol.columns[6]] = \"data\"\n",
    "df_iq[df_qol.columns[7]] = \"data\"\n",
    "\n",
    "for i in df_iq[df_iq.columns[0]]:\n",
    "    for j in df_qol[df_qol.columns[0]]:\n",
    "        if j == i:\n",
    "            \n",
    "            count = count + 1\n",
    "            print(count, i)\n",
    "\n",
    "print(count)\n",
    "print(df_iq)\n",
    "print(len(df_iq.columns))"
   ]
  }
 ],
 "metadata": {
  "kernelspec": {
   "display_name": "Python 3",
   "language": "python",
   "name": "python3"
  },
  "language_info": {
   "codemirror_mode": {
    "name": "ipython",
    "version": 3
   },
   "file_extension": ".py",
   "mimetype": "text/x-python",
   "name": "python",
   "nbconvert_exporter": "python",
   "pygments_lexer": "ipython3",
   "version": "3.11.3"
  }
 },
 "nbformat": 4,
 "nbformat_minor": 2
}
